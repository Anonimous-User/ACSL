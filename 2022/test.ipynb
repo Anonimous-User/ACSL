{
 "cells": [
  {
   "cell_type": "code",
   "execution_count": 4,
   "metadata": {},
   "outputs": [
    {
     "name": "stdout",
     "output_type": "stream",
     "text": [
      "-331.0\n"
     ]
    }
   ],
   "source": [
    "def meth(x, y):\n",
    "    if x%2==0:\n",
    "        return meth(x/2, y-3)-x*y\n",
    "    elif(x%2==1 and x%3==0):\n",
    "        return meth(y+2, x/3)+x\n",
    "    return x*y\n",
    "\n",
    "print(meth(12, 18))"
   ]
  },
  {
   "cell_type": "code",
   "execution_count": 7,
   "metadata": {},
   "outputs": [
    {
     "name": "stdout",
     "output_type": "stream",
     "text": [
      "16\n"
     ]
    }
   ],
   "source": [
    "n=20\n",
    "t=0\n",
    "x=3\n",
    "while x<n:\n",
    "    d=2\n",
    "    while d<x:\n",
    "        t+=1\n",
    "        d*=2\n",
    "    x+=3\n",
    "        \n",
    "print(t)"
   ]
  },
  {
   "cell_type": "code",
   "execution_count": 4,
   "metadata": {},
   "outputs": [
    {
     "name": "stdout",
     "output_type": "stream",
     "text": [
      "12165026\n"
     ]
    }
   ],
   "source": [
    "\n",
    "x = 16416882-4251856\n",
    "print(x)"
   ]
  },
  {
   "cell_type": "code",
   "execution_count": 9,
   "metadata": {},
   "outputs": [
    {
     "name": "stdout",
     "output_type": "stream",
     "text": [
      "2378\n"
     ]
    }
   ],
   "source": [
    "def smth(x):\n",
    "    if(x==1):\n",
    "        return 0\n",
    "    if(x==2):\n",
    "        return 1\n",
    "    if(x>2):\n",
    "        return 2*smth(x-1)+smth(x-2)\n",
    "\n",
    "print(smth(11))"
   ]
  },
  {
   "cell_type": "code",
   "execution_count": 10,
   "metadata": {},
   "outputs": [
    {
     "name": "stdout",
     "output_type": "stream",
     "text": [
      "103.0625\n"
     ]
    }
   ],
   "source": [
    "def f(x):\n",
    "    if(x >= 18):\n",
    "        return f((x-4)/2)-1\n",
    "    if(10<=x<18):\n",
    "        return f((2*x)+1)+3\n",
    "    if(x<10):\n",
    "        return x**2\n",
    "    \n",
    "print(f(f(54)))"
   ]
  },
  {
   "cell_type": "code",
   "execution_count": 15,
   "metadata": {},
   "outputs": [
    {
     "name": "stdout",
     "output_type": "stream",
     "text": [
      "1\n"
     ]
    }
   ],
   "source": [
    "from math import floor\n",
    "\n",
    "\n",
    "def f(x, y):\n",
    "    return floor(abs(x*y)**(1/2))\n",
    "print(f(6, 4)*f(2, 5)-f(4, 2**5))"
   ]
  },
  {
   "cell_type": "code",
   "execution_count": 13,
   "metadata": {},
   "outputs": [
    {
     "name": "stdout",
     "output_type": "stream",
     "text": [
      "((((a$b)*(c$d))-(c^c))$(c^b))\n"
     ]
    }
   ],
   "source": [
    "def isOperand(x):\n",
    "    return ((x >= 'a' and x <= 'z') or\n",
    "            (x >= 'A' and x <= 'Z'))\n",
    " \n",
    "# Get Infix for a given postfix\n",
    "# expression\n",
    "def getInfix(exp) :\n",
    " \n",
    "    s = []\n",
    " \n",
    "    for i in exp:    \n",
    "         \n",
    "        # Push operands\n",
    "        if (isOperand(i)) :        \n",
    "            s.insert(0, i)\n",
    "             \n",
    "        # We assume that input is a\n",
    "        # valid postfix and expect\n",
    "        # an operator.\n",
    "        else:\n",
    "         \n",
    "            op1 = s[0]\n",
    "            s.pop(0)\n",
    "            op2 = s[0]\n",
    "            s.pop(0)\n",
    "            s.insert(0, \"(\" + op2 + i +\n",
    "                             op1 + \")\")\n",
    "             \n",
    "    # There must be a single element in\n",
    "    # stack now which is the required\n",
    "    # infix.\n",
    "    return s[0]\n",
    " \n",
    "# Driver Code\n",
    "if __name__ == '__main__':\n",
    " \n",
    "    exp = \"ab$cd$*cc^-cb^$\"\n",
    "    print(getInfix(exp.strip()))\n",
    " \n",
    "# This code is contributed by\n",
    "# Shubham Singh(SHUBHAMSINGH10)"
   ]
  },
  {
   "cell_type": "code",
   "execution_count": 22,
   "metadata": {},
   "outputs": [
    {
     "name": "stdout",
     "output_type": "stream",
     "text": [
      "10\n"
     ]
    }
   ],
   "source": [
    "arr = [8, 6, 2, 9, 3, 5, 7, 1, 4, 0]\n",
    "count = 0\n",
    "for x in range(0, 8):\n",
    "    for y in range(x+1, 9):\n",
    "        if x== arr[y]:\n",
    "            z1 = x\n",
    "            z2 = y\n",
    "            while (z1<z2):\n",
    "                t = arr[z1]\n",
    "                arr[z1] = arr[z2]\n",
    "                arr[z2] = t\n",
    "                z1+=1\n",
    "                z2-=1\n",
    "                count+=1\n",
    "\n",
    "print(count)"
   ]
  }
 ],
 "metadata": {
  "kernelspec": {
   "display_name": "base",
   "language": "python",
   "name": "python3"
  },
  "language_info": {
   "codemirror_mode": {
    "name": "ipython",
    "version": 3
   },
   "file_extension": ".py",
   "mimetype": "text/x-python",
   "name": "python",
   "nbconvert_exporter": "python",
   "pygments_lexer": "ipython3",
   "version": "3.9.7"
  },
  "orig_nbformat": 4,
  "vscode": {
   "interpreter": {
    "hash": "71dc138aece1628ee3ff5be591a42bc9d2d8701aedc37d85e7eb22e0154902ef"
   }
  }
 },
 "nbformat": 4,
 "nbformat_minor": 2
}
