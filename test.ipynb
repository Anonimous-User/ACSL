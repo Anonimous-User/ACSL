{
 "cells": [
  {
   "cell_type": "code",
   "execution_count": 4,
   "metadata": {},
   "outputs": [
    {
     "name": "stdout",
     "output_type": "stream",
     "text": [
      "-331.0\n"
     ]
    }
   ],
   "source": [
    "def meth(x, y):\n",
    "    if x%2==0:\n",
    "        return meth(x/2, y-3)-x*y\n",
    "    elif(x%2==1 and x%3==0):\n",
    "        return meth(y+2, x/3)+x\n",
    "    return x*y\n",
    "\n",
    "print(meth(12, 18))"
   ]
  },
  {
   "cell_type": "code",
   "execution_count": 7,
   "metadata": {},
   "outputs": [
    {
     "name": "stdout",
     "output_type": "stream",
     "text": [
      "16\n"
     ]
    }
   ],
   "source": [
    "n=20\n",
    "t=0\n",
    "x=3\n",
    "while x<n:\n",
    "    d=2\n",
    "    while d<x:\n",
    "        t+=1\n",
    "        d*=2\n",
    "    x+=3\n",
    "        \n",
    "print(t)"
   ]
  },
  {
   "cell_type": "code",
   "execution_count": 4,
   "metadata": {},
   "outputs": [
    {
     "name": "stdout",
     "output_type": "stream",
     "text": [
      "12165026\n"
     ]
    }
   ],
   "source": [
    "\n",
    "x = 16416882-4251856\n",
    "print(x)"
   ]
  }
 ],
 "metadata": {
  "kernelspec": {
   "display_name": "base",
   "language": "python",
   "name": "python3"
  },
  "language_info": {
   "codemirror_mode": {
    "name": "ipython",
    "version": 3
   },
   "file_extension": ".py",
   "mimetype": "text/x-python",
   "name": "python",
   "nbconvert_exporter": "python",
   "pygments_lexer": "ipython3",
   "version": "3.9.13"
  },
  "orig_nbformat": 4,
  "vscode": {
   "interpreter": {
    "hash": "71dc138aece1628ee3ff5be591a42bc9d2d8701aedc37d85e7eb22e0154902ef"
   }
  }
 },
 "nbformat": 4,
 "nbformat_minor": 2
}
